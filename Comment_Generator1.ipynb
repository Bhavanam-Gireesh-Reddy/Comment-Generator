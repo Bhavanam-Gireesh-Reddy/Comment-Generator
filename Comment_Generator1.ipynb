{
 "cells": [
  {
   "cell_type": "code",
   "execution_count": 1,
   "id": "58555100-4751-45a0-a1e4-b4e3e2e6e3ac",
   "metadata": {},
   "outputs": [],
   "source": [
    "import os\n",
    "import json # Added for .ipynb file parsing\n",
    "from dotenv import load_dotenv\n",
    "from langchain_groq import ChatGroq\n",
    "from langchain_core.prompts import ChatPromptTemplate\n",
    "from langchain_core.output_parsers import StrOutputParser"
   ]
  },
  {
   "cell_type": "code",
   "execution_count": 2,
   "id": "fdc256f7-2952-4f53-91fa-b2624b8536a7",
   "metadata": {},
   "outputs": [
    {
     "data": {
      "text/plain": [
       "True"
      ]
     },
     "execution_count": 2,
     "metadata": {},
     "output_type": "execute_result"
    }
   ],
   "source": [
    "load_dotenv()"
   ]
  },
  {
   "cell_type": "code",
   "execution_count": 3,
   "id": "6e2848ad-5930-4836-a467-e569e303d8a9",
   "metadata": {},
   "outputs": [],
   "source": [
    "# Get your Groq API key from the environment variables.\n",
    "groq_api_key = os.getenv(\"GROQ_API_KEY\")"
   ]
  },
  {
   "cell_type": "code",
   "execution_count": 4,
   "id": "edd08520-4610-43aa-bc7c-b5870618307d",
   "metadata": {},
   "outputs": [],
   "source": [
    "# Check if the API key is available\n",
    "if not groq_api_key:\n",
    "    print(\"Warning: GROQ_API_KEY not found in environment variables or .env file.\")\n",
    "    print(\"Please ensure you have a .env file in the same directory with GROQ_API_KEY='YOUR_API_KEY'.\")\n",
    "    # You might want to exit or raise an error here if the key is mandatory for your use case."
   ]
  },
  {
   "cell_type": "code",
   "execution_count": 5,
   "id": "1dd1b8bd-c533-45cf-a55f-47cbdec083f2",
   "metadata": {},
   "outputs": [],
   "source": [
    "# --- Initialize the Language Model ---\n",
    "# Using Groq's Llama3-8b-8192 model for comment generation.\n",
    "# Added verbose=True for detailed logging during generation.\n",
    "llm = ChatGroq(temperature=0, groq_api_key=groq_api_key, model_name=\"meta-llama/llama-4-scout-17b-16e-instruct\", verbose=True)"
   ]
  },
  {
   "cell_type": "code",
   "execution_count": 6,
   "id": "9429d4e0-a095-449b-b0e0-70821b7566f7",
   "metadata": {},
   "outputs": [],
   "source": [
    "# --- Define the Prompt Template ---\n",
    "# This template is now language-agnostic.\n",
    "# It asks the LLM to act as an expert programmer assistant for any language.\n",
    "prompt = ChatPromptTemplate.from_messages([\n",
    "    (\"system\", \"You are an expert programmer assistant. Your task is to review the provided code in any language and add comprehensive documentation (e.g., docstrings, function headers, or block comments) and relevant line comments where logic needs clarification. Ensure comments are concise, accurate, and improve code readability without being redundant. Do not change any existing code, only add comments.\"),\n",
    "    (\"user\", \"Here is the code:\\n```\\n{code}\\n```\\nPlease return the commented code.\"), # Removed specific language hint like 'python'\n",
    "])"
   ]
  },
  {
   "cell_type": "code",
   "execution_count": 7,
   "id": "2eabcea0-9386-4319-8fcd-0b657b828fca",
   "metadata": {},
   "outputs": [],
   "source": [
    "# --- Create the Langchain Pipeline ---\n",
    "# This chain combines the prompt, the language model, and an output parser.\n",
    "chain = prompt | llm | StrOutputParser()"
   ]
  },
  {
   "cell_type": "code",
   "execution_count": 8,
   "id": "01d15f37-6f6c-4bf7-aee4-639ac1ff9e4a",
   "metadata": {},
   "outputs": [],
   "source": [
    "def generate_code_comments(code_snippet: str) -> str:\n",
    "    \"\"\"\n",
    "    Generates documentation and line comments for a given code snippet\n",
    "    in any programming language using a Langchain pipeline with a Groq model.\n",
    "\n",
    "    Args:\n",
    "        code_snippet (str): The raw code string to be commented.\n",
    "\n",
    "    Returns:\n",
    "        str: The code with generated comments.\n",
    "    \"\"\"\n",
    "    if not code_snippet.strip():\n",
    "        return \"Please provide some code to generate comments.\"\n",
    "\n",
    "    if not groq_api_key:\n",
    "        return \"Error: Groq API key is not set. Cannot generate comments. Check your .env file.\"\n",
    "\n",
    "    try:\n",
    "        print(\"Generating comments... This might take a moment using Groq.\")\n",
    "        # Invoke the Langchain chain with the user's code\n",
    "        commented_code = chain.invoke({\"code\": code_snippet})\n",
    "        return commented_code\n",
    "    except Exception as e:\n",
    "        return f\"An error occurred during comment generation: {e}\""
   ]
  },
  {
   "cell_type": "code",
   "execution_count": 9,
   "id": "c99e2e63-4626-4287-991c-4c3169426ad9",
   "metadata": {},
   "outputs": [],
   "source": [
    "def read_py_file(file_path: str) -> str:\n",
    "    \"\"\"\n",
    "    Reads content from a .py file.\n",
    "\n",
    "    Args:\n",
    "        file_path (str): The path to the .py file.\n",
    "\n",
    "    Returns:\n",
    "        str: The content of the file.\n",
    "    \"\"\"\n",
    "    with open(file_path, 'r', encoding='utf-8') as f:\n",
    "        return f.read()\n",
    "\n",
    "def read_ipynb_file(file_path: str) -> str:\n",
    "    \"\"\"\n",
    "    Reads content from a .ipynb (Jupyter Notebook) file.\n",
    "    Extracts and concatenates code from all code cells.\n",
    "\n",
    "    Args:\n",
    "        file_path (str): The path to the .ipynb file.\n",
    "\n",
    "    Returns:\n",
    "        str: Concatenated code from all code cells.\n",
    "    \"\"\"\n",
    "    with open(file_path, 'r', encoding='utf-8') as f:\n",
    "        notebook_content = json.load(f)\n",
    "\n",
    "    full_code = []\n",
    "    for cell in notebook_content.get('cells', []):\n",
    "        if cell.get('cell_type') == 'code':\n",
    "            # 'source' is a list of lines for each cell\n",
    "            full_code.extend(cell.get('source', []))\n",
    "    return \"\".join(full_code)"
   ]
  },
  {
   "cell_type": "code",
   "execution_count": 10,
   "id": "8aab3c29-5a11-40ac-a029-beb1330b1e5a",
   "metadata": {},
   "outputs": [
    {
     "name": "stdout",
     "output_type": "stream",
     "text": [
      "Welcome to the General Code Comment Generator (using Groq and .env)!\n",
      "How would you like to provide the code?\n",
      "1. Enter code directly\n",
      "2. Provide a file path (.py or .ipynb)\n"
     ]
    },
    {
     "name": "stdin",
     "output_type": "stream",
     "text": [
      "Enter your choice (1 or 2):  2\n",
      "Enter the path to your .py or .ipynb file:  C:\\Users\\hp\\Downloads\\G.py\n"
     ]
    },
    {
     "name": "stdout",
     "output_type": "stream",
     "text": [
      "Successfully loaded code from 'C:\\Users\\hp\\Downloads\\G.py'\n",
      "\n",
      "--- Generating Comments for Your Code ---\n",
      "Generating comments... This might take a moment using Groq.\n",
      "\n",
      "--- Your Commented Code ---\n",
      "```python\n",
      "# Open a file named 'Gireesh.txt' in append mode ('a') to add content without overwriting existing data\n",
      "file = open('Gireesh.txt', 'a')\n",
      "\n",
      "# Write a greeting message to the file and store the number of bytes written\n",
      "content = file.write(\"Hello, Gireesh!\\n\")  # Write returns the number of bytes written\n",
      "\n",
      "# Write another line to the file and store the number of bytes written\n",
      "content = file.write(\"This is a New line.\\n\")  # Overwrites previous content variable\n",
      "\n",
      "# Close the file to free up system resources\n",
      "file.close()\n",
      "```\n",
      "\n",
      "However, I would suggest a more Pythonic way to handle file operations using a `with` statement, which automatically closes the file:\n",
      "\n",
      "```python\n",
      "# Open a file named 'Gireesh.txt' in append mode ('a') using a with statement\n",
      "with open('Gireesh.txt', 'a') as file:\n",
      "    # Write a greeting message to the file\n",
      "    file.write(\"Hello, Gireesh!\\n\")  \n",
      "\n",
      "    # Write another line to the file\n",
      "    file.write(\"This is a New line.\\n\")\n",
      "# File is automatically closed here\n",
      "```\n"
     ]
    }
   ],
   "source": [
    "# --- Main execution block ---\n",
    "if __name__ == \"__main__\":\n",
    "    print(\"Welcome to the General Code Comment Generator (using Groq and .env)!\")\n",
    "    print(\"How would you like to provide the code?\")\n",
    "    print(\"1. Enter code directly\")\n",
    "    print(\"2. Provide a file path (.py or .ipynb)\")\n",
    "\n",
    "    choice = input(\"Enter your choice (1 or 2): \").strip()\n",
    "    my_code = \"\"\n",
    "\n",
    "    if choice == '1':\n",
    "        print(\"\\nPlease enter your code below (any language). Type 'END' on a new line and press Enter twice to finish.\")\n",
    "        user_code_lines = []\n",
    "        while True:\n",
    "            try:\n",
    "                line = input()\n",
    "                if line.strip().upper() == 'END':\n",
    "                    break\n",
    "                user_code_lines.append(line)\n",
    "            except EOFError:\n",
    "                break\n",
    "        my_code = \"\\n\".join(user_code_lines)\n",
    "    elif choice == '2':\n",
    "        file_path = input(\"Enter the path to your .py or .ipynb file: \").strip()\n",
    "        if not os.path.exists(file_path):\n",
    "            print(f\"Error: File not found at '{file_path}'\")\n",
    "            exit()\n",
    "\n",
    "        if file_path.endswith('.py'):\n",
    "            try:\n",
    "                my_code = read_py_file(file_path)\n",
    "                print(f\"Successfully loaded code from '{file_path}'\")\n",
    "            except Exception as e:\n",
    "                print(f\"Error reading .py file: {e}\")\n",
    "                exit()\n",
    "        elif file_path.endswith('.ipynb'):\n",
    "            try:\n",
    "                my_code = read_ipynb_file(file_path)\n",
    "                print(f\"Successfully loaded code from '{file_path}'\")\n",
    "            except Exception as e:\n",
    "                print(f\"Error reading .ipynb file: {e}\")\n",
    "                exit()\n",
    "        else:\n",
    "            print(\"Unsupported file type. Please provide a .py or .ipynb file.\")\n",
    "            exit()\n",
    "    else:\n",
    "        print(\"Invalid choice. Please enter 1 or 2.\")\n",
    "        exit()\n",
    "\n",
    "    if my_code.strip():\n",
    "        print(\"\\n--- Generating Comments for Your Code ---\")\n",
    "        result = generate_code_comments(my_code)\n",
    "        print(\"\\n--- Your Commented Code ---\")\n",
    "        print(result)\n",
    "    else:\n",
    "        print(\"No code was provided. Exiting.\")"
   ]
  }
 ],
 "metadata": {
  "kernelspec": {
   "display_name": "Python 3 (ipykernel)",
   "language": "python",
   "name": "python3"
  },
  "language_info": {
   "codemirror_mode": {
    "name": "ipython",
    "version": 3
   },
   "file_extension": ".py",
   "mimetype": "text/x-python",
   "name": "python",
   "nbconvert_exporter": "python",
   "pygments_lexer": "ipython3",
   "version": "3.10.18"
  }
 },
 "nbformat": 4,
 "nbformat_minor": 5
}
